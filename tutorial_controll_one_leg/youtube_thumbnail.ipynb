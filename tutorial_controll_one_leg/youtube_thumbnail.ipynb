{
 "cells": [
  {
   "cell_type": "code",
   "execution_count": 1,
   "metadata": {},
   "outputs": [],
   "source": []
  },
  {
   "cell_type": "code",
   "execution_count": 3,
   "metadata": {},
   "outputs": [
    {
     "name": "stdout",
     "output_type": "stream",
     "text": [
      "Thumbnail URL: https://yt3.ggpht.com/ytc/AIf8zZRYS5FeorhaZNGSqJK5Geu5xNhOi7oqHWDcvOJ7=s800-c-k-c0x00ffffff-no-rj\n",
      "Image saved successfully.\n"
     ]
    }
   ],
   "source": [
    "from googleapiclient.discovery import build\n",
    "import requests\n",
    "from dotenv import load_dotenv\n",
    "import os\n",
    "\n",
    "load_dotenv()\n",
    "\n",
    "api_key = os.getenv(\"API_KEY_YOUTUBE\")\n",
    "# YouTube video ID\n",
    "video_id = 'YIK7ebd2IRg'\n",
    "\n",
    "def get_last_comment_thumbnail(video_id, api_key):\n",
    "    youtube = build('youtube', 'v3', developerKey=api_key)\n",
    "\n",
    "    # Fetch comments from the video\n",
    "    response = youtube.commentThreads().list(\n",
    "        part='snippet',\n",
    "        videoId=video_id,\n",
    "        order='time',  # Order by time to get the latest comment\n",
    "        maxResults=1  # We only need the latest comment\n",
    "    ).execute()\n",
    "\n",
    "    if 'items' in response and response['items']:\n",
    "        last_comment = response['items'][0]\n",
    "        author_channel_id = last_comment['snippet']['topLevelComment']['snippet']['authorChannelId']['value']\n",
    "\n",
    "        # Fetch the channel details to get the thumbnail\n",
    "        channel_response = youtube.channels().list(\n",
    "            part='snippet',\n",
    "            id=author_channel_id\n",
    "        ).execute()\n",
    "\n",
    "        if 'items' in channel_response and channel_response['items']:\n",
    "            thumbnail_url = channel_response['items'][0]['snippet']['thumbnails']['high']['url']\n",
    "            return thumbnail_url\n",
    "    return None\n",
    "\n",
    "import requests\n",
    "\n",
    "def download_image(image_url, file_path):\n",
    "    response = requests.get(image_url)\n",
    "    if response.status_code == 200:\n",
    "        with open(file_path, 'wb') as file:\n",
    "            file.write(response.content)\n",
    "        return True\n",
    "    return False\n",
    "\n",
    "\n",
    "# Test the function\n",
    "thumbnail = get_last_comment_thumbnail(video_id, api_key)\n",
    "if thumbnail:\n",
    "    print(\"Thumbnail URL:\", thumbnail)\n",
    "    success = download_image(thumbnail, 'last_commenter_thumbnail.jpg')\n",
    "    if success:\n",
    "        print(\"Image saved successfully.\")\n",
    "    else:\n",
    "        print(\"Failed to save the image.\")\n",
    "else:\n",
    "    print(\"No comments found or unable to fetch thumbnail.\")\n"
   ]
  },
  {
   "cell_type": "code",
   "execution_count": null,
   "metadata": {},
   "outputs": [],
   "source": []
  }
 ],
 "metadata": {
  "kernelspec": {
   "display_name": "base",
   "language": "python",
   "name": "python3"
  },
  "language_info": {
   "codemirror_mode": {
    "name": "ipython",
    "version": 3
   },
   "file_extension": ".py",
   "mimetype": "text/x-python",
   "name": "python",
   "nbconvert_exporter": "python",
   "pygments_lexer": "ipython3",
   "version": "3.11.5"
  }
 },
 "nbformat": 4,
 "nbformat_minor": 2
}
