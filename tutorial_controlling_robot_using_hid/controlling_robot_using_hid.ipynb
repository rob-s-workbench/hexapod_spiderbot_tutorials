{
 "cells": [
  {
   "cell_type": "markdown",
   "metadata": {},
   "source": []
  },
  {
   "cell_type": "markdown",
   "metadata": {},
   "source": [
    "### Step 1: Listing all HID devices\n",
    "\n",
    "Before we can use a HID device, we need to know its vendor ID, product ID, or name. The `list_hid_devices()` method in the `GamepadController` class can be used to list all connected HID devices along with their vendor IDs, product IDs, and names:\n"
   ]
  },
  {
   "cell_type": "code",
   "execution_count": 1,
   "metadata": {},
   "outputs": [
    {
     "name": "stdout",
     "output_type": "stream",
     "text": [
      "0x004c:0x026c Magic Keyboard with Numeric Keypad\n",
      "0x05ac:0x027e Apple Internal Keyboard / Trackpad\n",
      "0x05ac:0x027e Apple Internal Keyboard / Trackpad\n",
      "0x05ac:0x027e Apple Internal Keyboard / Trackpad\n",
      "0x05ac:0x027e Apple Internal Keyboard / Trackpad\n",
      "0x05ac:0x027e Apple Internal Keyboard / Trackpad\n",
      "0x05ac:0x027e Apple Internal Keyboard / Trackpad\n",
      "0x05ac:0x027e Apple Internal Keyboard / Trackpad\n",
      "0x05ac:0x027e Apple Internal Keyboard / Trackpad\n",
      "0x05ac:0x027e Apple Internal Keyboard / Trackpad\n",
      "0x05ac:0x027e Apple Internal Keyboard / Trackpad\n",
      "0x046d:0xc542 Wireless Receiver\n",
      "0x046d:0xc542 Wireless Receiver\n",
      "0x046d:0xc542 Wireless Receiver\n",
      "0x05ac:0x8262 Ambient Light Sensor\n",
      "0x05ac:0x8102 Touch Bar Backlight\n",
      "0x05ac:0x8102 Touch Bar Backlight\n",
      "0x05ac:0x8103 Headset\n",
      "0xe502:0xbbab ExpressLRS Joystick\n",
      "0xe502:0xbbab ExpressLRS Joystick\n",
      "0xe502:0xbbab ExpressLRS Joystick\n",
      "0x05ac:0x8600 TouchBarUserDevice\n",
      "0x05ac:0x8302 Touch Bar Display\n",
      "0x05ac:0x8302 Touch Bar Display\n",
      "0x05ac:0x8302 Touch Bar Display\n",
      "0x004c:0x026c Magic Keyboard with Numeric Keypad\n",
      "0x004c:0x026c Magic Keyboard with Numeric Keypad\n",
      "0x004c:0x026c Magic Keyboard with Numeric Keypad\n",
      "0x004c:0x026c Magic Keyboard with Numeric Keypad\n",
      "0x004c:0x026c Magic Keyboard with Numeric Keypad\n"
     ]
    }
   ],
   "source": [
    "from controller import GamepadController\n",
    "GamepadController.list_hid_devices()"
   ]
  },
  {
   "cell_type": "markdown",
   "metadata": {},
   "source": [
    "### Step 2: Connecting to a HID device\n",
    "Once we know the vendor ID, product ID, or name of our game controller, we can use the connect() method to establish a connection:\n"
   ]
  },
  {
   "cell_type": "code",
   "execution_count": 2,
   "metadata": {},
   "outputs": [
    {
     "name": "stdout",
     "output_type": "stream",
     "text": [
      "Connecting to {'path': b'DevSrvsID:4295206353', 'vendor_id': 58626, 'product_id': 48043, 'serial_number': '0123456789', 'release_number': 4097, 'manufacturer_string': 'ELRS', 'product_string': 'ExpressLRS Joystick', 'usage_page': 1, 'usage': 5, 'interface_number': -1}\n"
     ]
    },
    {
     "data": {
      "text/plain": [
       "<controller.GamepadController at 0x10b513a60>"
      ]
     },
     "execution_count": 2,
     "metadata": {},
     "output_type": "execute_result"
    }
   ],
   "source": [
    "import hid\n",
    "gamepad = hid.device()\n",
    "gamepad_controller = GamepadController(gamepad)\n",
    "#controller.connect(vendor_id=<vendor_id>, product_id=<product_id>)  # Replace with actual IDs\n",
    "# OR\n",
    "gamepad_controller.connect(name=\"ExpressLRS Joystick\")  # Replace with actual name"
   ]
  },
  {
   "cell_type": "markdown",
   "metadata": {},
   "source": [
    "\n",
    "### Step 3: Understanding the raw output from the controller and the two-value transmission per channel\n",
    "To better understand the raw output data from the HID device, you can use the print_raw_data() method"
   ]
  },
  {
   "cell_type": "code",
   "execution_count": 4,
   "metadata": {},
   "outputs": [
    {
     "name": "stdout",
     "output_type": "stream",
     "text": [
      "0 :  3\n",
      "1 :  0\n",
      "2 :  0\n",
      "3 :  89\n",
      "4 :  64\n",
      "5 :  205\n",
      "6 :  63\n",
      "7 :  19\n",
      "8 :  0\n",
      "9 :  9\n",
      "10 :  64\n",
      "11 :  90\n",
      "12 :  49\n",
      "13 :  225\n",
      "14 :  63\n",
      "15 :  255\n",
      "16 :  127\n",
      "17 :  19\n",
      "18 :  0\n",
      "19 :  0\n"
     ]
    }
   ],
   "source": [
    "from IPython.display import clear_output\n",
    "# code below should run for about 25 seconds you can increase the time by changing 50 iterations to higher number\n",
    "i=0\n",
    "while i in range(0,50):\n",
    "    clear_output(wait=True)\n",
    "    GamepadController.print_raw_data(gamepad)\n",
    "    i=i+1\n",
    "#To identify which channels correspond to which controller inputs, you can experiment by moving different parts of your controller and observing the changes in the raw data output. This will help you identify which indexes correspond to which controller inputs.\n",
    "gamepad_controller.disconnect()"
   ]
  },
  {
   "cell_type": "markdown",
   "metadata": {},
   "source": [
    "\n",
    "### Step 4: Identifying controller channels and configuring them\n",
    "The GamepadController class allows you to define channels such as throttle, roll, yaw, and pitch. After identifying the channels by observing the changes in raw data output during different controller inputs, you can define the channels as follows:\n"
   ]
  },
  {
   "cell_type": "code",
   "execution_count": 1,
   "metadata": {},
   "outputs": [
    {
     "name": "stdout",
     "output_type": "stream",
     "text": [
      "Connecting to {'path': b'DevSrvsID:4295206353', 'vendor_id': 58626, 'product_id': 48043, 'serial_number': '0123456789', 'release_number': 4097, 'manufacturer_string': 'ELRS', 'product_string': 'ExpressLRS Joystick', 'usage_page': 1, 'usage': 5, 'interface_number': -1}\n",
      "{'throttle': 12585, 'yaw': 16290, 'roll': 16409, 'pitch': 16270, 'channel_5': 19, 'channel_6': 16329, 'channel_7': 32640, 'channel_8': 19}\n"
     ]
    }
   ],
   "source": [
    "from controller import GamepadController\n",
    "import hid\n",
    "import time\n",
    "# configuration below has been made by me and it works with Radiomaster TX16S with ELRS Radiomaster micro module\n",
    "# You have to adjust it to your device, especially: 'vendor_id','product_id','name', and 'channels'\n",
    "conf={'vendor_id':0xe502,'product_id':0xbbab,'name':'ExpressLRS Joystick','min_value':19, 'max_value':32640,'deadzone_width':150,'channels':{'throttle': 11, 'yaw': 13, 'roll': 3, 'pitch': 5, 'channel_5': 7,'channel_6': 9,'channel_7': 15,'channel_8': 17}}\n",
    "gamepad = hid.device() # I had to define it outside the class. Some quirks of HID module cause objects created within function unable to open connection\n",
    "gamepad_controller = GamepadController(gamepad,conf['channels'],conf['min_value'],conf['max_value'],conf['deadzone_width']).connect(name=conf['name'])\n",
    "time.sleep(1)\n",
    "controller_state = gamepad_controller.read_controller()\n",
    "print(controller_state)\n",
    "gamepad_controller.disconnect()"
   ]
  },
  {
   "cell_type": "markdown",
   "metadata": {},
   "source": [
    "### Step 5: Writing a method to control a robot using the game controller\n",
    "With the ability to read the state of the game controller, you can now use this information to control a robot. The following is a simple pseudocode example of how to do this:"
   ]
  },
  {
   "cell_type": "code",
   "execution_count": 5,
   "metadata": {},
   "outputs": [
    {
     "data": {
      "image/png": "[encoded data removed]",
      "text/plain": [
       "<Figure size 640x480 with 1 Axes>"
      ]
     },
     "metadata": {},
     "output_type": "display_data"
    }
   ],
   "source": [
    "from IPython.display import clear_output, display\n",
    "import ipywidgets as widgets\n",
    "import math\n",
    "import matplotlib.pyplot as plt\n",
    "import time\n",
    "from controller import GamepadController\n",
    "import hid\n",
    "import time\n",
    "class Robot:\n",
    "    def __init__(self, x=0, y=0):\n",
    "        self.x = x\n",
    "        self.y = y\n",
    "        self.direction = 0  # Direction in degrees, with 0 being to the right (east)\n",
    "        self.fig, self.ax = plt.subplots()\n",
    "        self.ax.set_xlim(-20, 20)\n",
    "        self.ax.set_ylim(-20, 20)\n",
    "        self.point, = self.ax.plot([self.x], [self.y], 'bo')\n",
    "        self.arrow = self.ax.arrow(self.x, self.y, 0.5*math.cos(math.radians(self.direction)), 0.5*math.sin(math.radians(self.direction)),  fc='r', ec='r') #head_width=0.5, head_length=0.5,\n",
    "\n",
    "    def move_forward(self, speed):\n",
    "        self.x += speed * 0.1 * math.cos(math.radians(self.direction))\n",
    "        self.y += speed * 0.1 * math.sin(math.radians(self.direction))\n",
    "        self.visualize()\n",
    "\n",
    "    def turn(self, angle_change):\n",
    "        self.direction += angle_change\n",
    "        self.visualize()\n",
    "\n",
    "    def visualize(self):\n",
    "        self.point.set_data([self.x], [self.y])\n",
    "        self.arrow.remove()\n",
    "        self.arrow = self.ax.arrow(self.x, self.y, 0.5*math.cos(math.radians(self.direction)), 0.5*math.sin(math.radians(self.direction)), head_width=2, head_length=2, fc='r', ec='r')\n",
    "        clear_output(wait=True)\n",
    "        display(self.fig)\n",
    "\n",
    "# configuration below has been made by me and it works with Radiomaster TX16S with ELRS Radiomaster micro module\n",
    "# You have to adjust it to your device, especially: 'vendor_id','product_id','name', and 'channels'\n",
    "conf={'vendor_id':0xe502,'product_id':0xbbab,'name':'ExpressLRS Joystick','min_value':19, 'max_value':32640,'deadzone_width':150,'channels':{'throttle': 11, 'yaw': 13, 'roll': 3, 'pitch': 5, 'channel_5': 7,'channel_6': 9,'channel_7': 15,'channel_8': 17}}\n",
    "gamepad = hid.device() # I had to define it outside the class. Some quirks of HID module cause objects created within function unable to open connection\n",
    "gamepad_controller = GamepadController(gamepad,conf['channels'],conf['min_value'],conf['max_value'],conf['deadzone_width']).connect(name=conf['name'])\n",
    "time.sleep(1)\n",
    "controller_state = gamepad_controller.read_controller()\n",
    "print(controller_state)\n",
    "\n",
    "robot = Robot()\n",
    "for i in range(0,100):\n",
    "    # Read the controller state\n",
    "    controller_state = gamepad_controller.read_controller()\n",
    "    time.sleep(0.1)\n",
    "    # Get the state of the throttle and yaw channels\n",
    "    throttle = gamepad_controller.get_percentage_channel_value('throttle')\n",
    "    yaw = gamepad_controller.get_percentage_channel_value('yaw')\n",
    "    \n",
    "    # Use the throttle and yaw values to control the robot\n",
    "    robot.move_forward(throttle)\n",
    "    robot.turn(yaw)\n",
    "    \n",
    "    # Wait a short period of time before the next iteration\n",
    "    time.sleep(0.1)\n",
    "clear_output(wait=True)\n",
    "gamepad_controller.disconnect()"
   ]
  },
  {
   "cell_type": "code",
   "execution_count": null,
   "metadata": {},
   "outputs": [],
   "source": []
  }
 ],
 "metadata": {
  "kernelspec": {
   "display_name": "base",
   "language": "python",
   "name": "python3"
  },
  "language_info": {
   "codemirror_mode": {
    "name": "ipython",
    "version": 3
   },
   "file_extension": ".py",
   "mimetype": "text/x-python",
   "name": "python",
   "nbconvert_exporter": "python",
   "pygments_lexer": "ipython3",
   "version": "3.10.10"
  },
  "orig_nbformat": 4
 },
 "nbformat": 4,
 "nbformat_minor": 2
}
